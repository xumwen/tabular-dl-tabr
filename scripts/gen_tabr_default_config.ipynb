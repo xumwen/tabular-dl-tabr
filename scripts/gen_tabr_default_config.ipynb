{
 "cells": [
  {
   "cell_type": "code",
   "execution_count": 18,
   "metadata": {},
   "outputs": [],
   "source": [
    "import os\n",
    "import toml\n",
    "import json\n",
    "\n",
    "def load_dataset_config(config_path):\n",
    "    datasets = []\n",
    "    with open(config_path, \"r\") as f:\n",
    "        for line in f:\n",
    "            dataset_name = line.strip()\n",
    "            datasets.append(dataset_name)\n",
    "    return datasets\n",
    "\n",
    "# Load benchmark datasets\n",
    "kdd_config_path = \"/data/Blob_EastUS/v-zhenxu2/projects/TabFM/configs/kdd16\"\n",
    "tabr_config_path = \"/data/Blob_EastUS/v-zhenxu2/projects/TabFM/configs/default8\"\n",
    "tree_config_path = \"/data/Blob_EastUS/v-zhenxu2/projects/TabFM/configs/tree36\"\n",
    "kdd_datasets = load_dataset_config(kdd_config_path)\n",
    "tabr_datasets = load_dataset_config(tabr_config_path)\n",
    "tree_datasets = load_dataset_config(tree_config_path)\n",
    "\n",
    "dataset_root_dir = \"/data/Blob_EastUS/xumeng/data/tabular/tabr/resample\"\n",
    "tabr_config_root_dir = \"/home/xumengwen/repos/tabular-dl-tabr/exp\"\n",
    "\n",
    "def get_config_path(root_dir, model, dataset):\n",
    "    config_path = os.path.join(root_dir, model, dataset, 'default-evaluation', '0.toml')\n",
    "    if not os.path.exists(config_path):\n",
    "        config_path = os.path.join(root_dir, model, dataset, 'default2-evaluation', '0.toml')\n",
    "    if not os.path.exists(config_path):\n",
    "        return None\n",
    "    return config_path"
   ]
  },
  {
   "cell_type": "markdown",
   "metadata": {},
   "source": [
    "# Config for tree models and TabR with default hyperparameters"
   ]
  },
  {
   "cell_type": "code",
   "execution_count": 15,
   "metadata": {},
   "outputs": [
    {
     "name": "stdout",
     "output_type": "stream",
     "text": [
      "error: 0\n"
     ]
    }
   ],
   "source": [
    "error_cnt = 0\n",
    "reg_default_example_dataset = 'black-friday'\n",
    "cls_default_example_dataset = 'adult'\n",
    "tabr_model_with_default_hyper = ['lightgbm_', 'catboost_', 'xgboost_', 'tabr']\n",
    "target_config_root_dir = \"/data/Blob_WestJP/xumeng/projects/TabR/exp/default_all_baseline_1017\"\n",
    "for dataset in tabr_datasets + tree_datasets:\n",
    "    for model in tabr_model_with_default_hyper:\n",
    "        config_path = get_config_path(tabr_config_root_dir, model, dataset)\n",
    "        dataset_type = 'reg' if 'regression' in dataset else 'cls'\n",
    "        config_dataset = dataset\n",
    "        if config_path is None:\n",
    "            config_dataset = reg_default_example_dataset if dataset_type == 'reg' else cls_default_example_dataset\n",
    "            config_path = get_config_path(tabr_config_root_dir, model, config_dataset)\n",
    "        if config_path is None:\n",
    "            error_cnt += 1\n",
    "        with open(config_path, 'r') as f:\n",
    "            content = f.read()\n",
    "            content = content.replace(\"cache = true\", \"cache = false\")\n",
    "            content = content.replace(f'path = \":data/{config_dataset}\"', f'path = \"{dataset_root_dir}/{dataset}\"')\n",
    "            # Fix typo bug in tabr\n",
    "            if model == 'tabr':\n",
    "                content = content.replace(\"mixer_dropout\", \"context_dropout\")\n",
    "        target_config_path = os.path.join(target_config_root_dir, model, dataset, 'default-evaluation', '0.toml')\n",
    "        # Save config into target path\n",
    "        os.makedirs(os.path.dirname(target_config_path), exist_ok=True)\n",
    "        with open(target_config_path, 'w') as f:\n",
    "            f.write(content)\n",
    "print(\"error:\", error_cnt)"
   ]
  },
  {
   "cell_type": "markdown",
   "metadata": {},
   "source": [
    "# Config for nn baseline with default hyperparameters"
   ]
  },
  {
   "cell_type": "code",
   "execution_count": 16,
   "metadata": {},
   "outputs": [
    {
     "name": "stdout",
     "output_type": "stream",
     "text": [
      "error: 0\n"
     ]
    }
   ],
   "source": [
    "error_cnt = 0\n",
    "default_example_dataset = 'covtype'\n",
    "models = ['saint', 'ft_transformer', 'ffn'] # ffn means MLP\n",
    "# models = ['ffn'] # ffn means MLP\n",
    "target_config_root_dir = \"/data/Blob_WestJP/xumeng/projects/TabR/exp/default_all_baseline_1017\"\n",
    "for dataset in tabr_datasets + tree_datasets:\n",
    "    info = json.load(open(f\"{dataset_root_dir}/{dataset}/info.json\"))\n",
    "    dataset_type = info['task_type']\n",
    "    for model in models:\n",
    "        config_path = get_config_path(tabr_config_root_dir, model, dataset)\n",
    "        config_dataset = dataset\n",
    "        if config_path is None:\n",
    "            config_dataset = default_example_dataset\n",
    "            config_path = get_config_path(tabr_config_root_dir, model, config_dataset)\n",
    "        if config_path is None:\n",
    "            error_cnt += 1\n",
    "        config = toml.load(config_path)\n",
    "        config['data']['cache'] = False\n",
    "        config['data']['path'] = f\"{dataset_root_dir}/{dataset}\"\n",
    "        config['data']['num_policy'] = \"quantile\"\n",
    "        config['data']['cat_policy'] = \"ordinal\"\n",
    "        if dataset_type == 'regression':\n",
    "            config['data']['y_policy'] = 'standard'\n",
    "        else:\n",
    "            config['data']['y_policy'] = '__null__'\n",
    "        # Save config into target path\n",
    "        target_config_path = os.path.join(target_config_root_dir, model, dataset, 'default-evaluation', '0.toml')\n",
    "        os.makedirs(os.path.dirname(target_config_path), exist_ok=True)\n",
    "        with open(target_config_path, 'w') as f:\n",
    "            toml.dump(config, f)\n",
    "print(\"error:\", error_cnt)"
   ]
  },
  {
   "cell_type": "markdown",
   "metadata": {},
   "source": [
    "# Baseline with default hyperparameters for KDD benchmark"
   ]
  },
  {
   "cell_type": "code",
   "execution_count": 20,
   "metadata": {},
   "outputs": [
    {
     "name": "stdout",
     "output_type": "stream",
     "text": [
      "error: 0\n"
     ]
    }
   ],
   "source": [
    "error_cnt = 0\n",
    "default_example_dataset = 'covtype'\n",
    "models = ['lightgbm_', 'catboost_', 'xgboost_', 'tabr', 'saint', 'ft_transformer', 'ffn'] # ffn means MLP\n",
    "\n",
    "target_config_root_dir = \"/data/Blob_WestJP/xumeng/projects/TabR/exp/default_all_baseline_kdd_1018\"\n",
    "for dataset in kdd_datasets:\n",
    "    info = json.load(open(f\"{dataset_root_dir}/{dataset}/info.json\"))\n",
    "    dataset_type = info['task_type']\n",
    "    for model in models:\n",
    "        config_path = get_config_path(tabr_config_root_dir, model, dataset)\n",
    "        config_dataset = dataset\n",
    "        if config_path is None:\n",
    "            config_dataset = default_example_dataset\n",
    "            config_path = get_config_path(tabr_config_root_dir, model, config_dataset)\n",
    "        if config_path is None:\n",
    "            error_cnt += 1\n",
    "        config = toml.load(config_path)\n",
    "        config['data']['cache'] = False\n",
    "        config['data']['path'] = f\"{dataset_root_dir}/{dataset}\"\n",
    "        # Fix typo bug in tabr\n",
    "        if model == 'tabr':\n",
    "            config['model']['context_dropout'] = config['model']['mixer_dropout']\n",
    "            del config['model']['mixer_dropout']\n",
    "        # Set feature processing policy\n",
    "        if model in ['tabr', 'ffn', 'saint', 'ft_transformer']:\n",
    "            config['data']['num_policy'] = \"quantile\"\n",
    "            config['data']['cat_policy'] = \"ordinal\"\n",
    "        elif model in ['lightgbm_', 'xgboost_']:\n",
    "            config['data']['num_policy'] = '__null__'\n",
    "            config['data']['cat_policy'] = \"one-hot\"\n",
    "        elif model in ['catboost_']:\n",
    "            config['data']['num_policy'] = '__null__'\n",
    "            config['data']['cat_policy'] = '__null__'\n",
    "        # Set label processing policy\n",
    "        if dataset_type == 'regression':\n",
    "            config['data']['y_policy'] = 'standard'\n",
    "        else:\n",
    "            config['data']['y_policy'] = '__null__'\n",
    "        # Save config into target path\n",
    "        target_config_path = os.path.join(target_config_root_dir, model, dataset, 'default-evaluation', '0.toml')\n",
    "        os.makedirs(os.path.dirname(target_config_path), exist_ok=True)\n",
    "        with open(target_config_path, 'w') as f:\n",
    "            toml.dump(config, f)\n",
    "print(\"error:\", error_cnt)"
   ]
  }
 ],
 "metadata": {
  "kernelspec": {
   "display_name": "tabr_simple",
   "language": "python",
   "name": "python3"
  },
  "language_info": {
   "codemirror_mode": {
    "name": "ipython",
    "version": 3
   },
   "file_extension": ".py",
   "mimetype": "text/x-python",
   "name": "python",
   "nbconvert_exporter": "python",
   "pygments_lexer": "ipython3",
   "version": "3.10.0"
  }
 },
 "nbformat": 4,
 "nbformat_minor": 2
}
